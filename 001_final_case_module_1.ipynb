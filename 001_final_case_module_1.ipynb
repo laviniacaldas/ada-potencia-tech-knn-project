{
 "cells": [
  {
   "cell_type": "markdown",
   "id": "5205c77f-79e6-491a-8e67-6a155a3d17bb",
   "metadata": {},
   "source": [
    "# Base de dados disponibilizada"
   ]
  },
  {
   "cell_type": "markdown",
   "id": "0b59faed-2d7f-44cc-8ed4-03bf8c966461",
   "metadata": {},
   "source": [
    "## Dados Categorizados"
   ]
  },
  {
   "cell_type": "code",
   "execution_count": 1,
   "id": "a9fae68c-f1c1-4c73-bc15-45c3700feef7",
   "metadata": {},
   "outputs": [],
   "source": [
    "# Atribuindo à variável data uma lista com os dados \n",
    "data = [[66707599984, 'Promotor', (51.00, 35.00, 14.00, 20.0)],\n",
    " [55695397315, 'Promotor', (49.00, 30.00, 14.00, 20.0)],\n",
    " [63743886918, 'Promotor', (47.00, 32.00, 13.00, 20.0)],\n",
    " [55941368774, 'Promotor', (46.00, 31.00, 15.00, 20.0)],\n",
    " [75486280874, 'Promotor', (50.00, 36.00, 14.00, 20.0)],\n",
    " [53164949799, 'Promotor', (54.00, 39.00, 17.00, 40.0)],\n",
    " [39898704131, 'Promotor', (46.00, 34.00, 14.00, 30.0)],\n",
    " [53740901207, 'Promotor', (50.00, 34.00, 15.00, 20.0)],\n",
    " [51735950236, 'Promotor', (44.00, 29.00, 14.00, 20.0)],\n",
    " [47305108951, 'Promotor', (49.00, 31.00, 15.00, 10.0)],\n",
    " [63858864633, 'Promotor', (54.00, 37.00, 15.00, 20.0)],\n",
    " [53363167240, 'Promotor', (48.00, 34.00, 16.00, 20.0)],\n",
    " [72133754195, 'Promotor', (48.00, 30.00, 14.00, 10.0)],\n",
    " [52802483512, 'Promotor', (43.00, 30.00, 11.00, 10.0)],\n",
    " [57925287214, 'Promotor', (48.00, 34.00, 19.00, 20.0)],\n",
    " [74354632224, 'Promotor', (50.00, 30.00, 16.00, 20.0)],\n",
    " [64020216626, 'Promotor', (50.00, 34.00, 16.00, 40.0)],\n",
    " [78223722856, 'Promotor', (52.00, 35.00, 15.00, 20.0)],\n",
    " [58245228846, 'Promotor', (52.00, 34.00, 14.00, 20.0)],\n",
    " [74490686776, 'Promotor', (47.00, 32.00, 16.00, 20.0)],\n",
    " [48646824781, 'Promotor', (48.00, 31.00, 16.00, 20.0)],\n",
    " [77381458676, 'Promotor', (54.00, 34.00, 15.00, 40.0)],\n",
    " [41615431874, 'Promotor', (52.00, 41.00, 15.00, 10.0)],\n",
    " [52163844491, 'Promotor', (55.00, 42.00, 14.00, 20.0)],\n",
    " [70276304567, 'Promotor', (49.00, 31.00, 15.00, 20.0)],\n",
    " [69119828185, 'Promotor', (50.00, 32.00, 12.00, 20.0)],\n",
    " [65441690046, 'Promotor', (55.00, 35.00, 13.00, 20.0)],\n",
    " [56457227894, 'Promotor', (49.00, 36.00, 14.00, 10.0)],\n",
    " [46939428126, 'Promotor', (44.00, 30.00, 13.00, 20.0)],\n",
    " [60979942480, 'Promotor', (51.00, 34.00, 15.00, 20.0)],\n",
    " [41648583220, 'Promotor', (50.00, 35.00, 13.00, 30.0)],\n",
    " [50376331791, 'Promotor', (45.00, 23.00, 13.00, 30.0)],\n",
    " [67008801023, 'Promotor', (44.00, 32.00, 13.00, 20.0)],\n",
    " [72149193419, 'Promotor', (50.00, 35.00, 16.00, 60.0)],\n",
    " [62830733382, 'Promotor', (51.00, 38.00, 19.00, 40.0)],\n",
    " [56716675811, 'Promotor', (48.00, 30.00, 14.00, 30.0)],\n",
    " [61089667146, 'Promotor', (51.00, 38.00, 16.00, 20.0)],\n",
    " [47795509468, 'Promotor', (46.00, 32.00, 14.00, 20.0)],\n",
    " [60899885693, 'Promotor', (53.00, 37.00, 15.00, 20.0)],\n",
    " [53433670705, 'Promotor', (50.00, 33.00, 14.00, 20.0)],\n",
    " [54850120580, 'Neutro', (70.00, 32.00, 47.00, 14.00)],\n",
    " [71457789994, 'Neutro', (64.00, 32.00, 45.00, 15.00)],\n",
    " [67692777563, 'Neutro', (69.00, 31.00, 49.00, 15.00)],\n",
    " [43133573182, 'Neutro', (55.00, 23.00, 40.00, 13.00)],\n",
    " [55150612815, 'Neutro', (65.00, 28.00, 46.00, 15.00)],\n",
    " [48211725243, 'Neutro', (57.00, 28.00, 45.00, 13.00)],\n",
    " [76686463776, 'Neutro', (63.00, 33.00, 47.00, 16.00)],\n",
    " [71971000560, 'Neutro', (49.00, 24.00, 33.00, 10.00)],\n",
    " [40307235992, 'Neutro', (66.00, 29.00, 46.00, 13.00)],\n",
    " [44826533081, 'Neutro', (52.00, 27.00, 39.00, 14.00)],\n",
    " [45735414894, 'Neutro', (59.00, 32.00, 48.00, 18.00)],\n",
    " [57137146514, 'Neutro', (61.00, 28.00, 40.00, 13.00)],\n",
    " [53657058251, 'Neutro', (63.00, 25.00, 49.00, 15.00)],\n",
    " [52941460485, 'Neutro', (61.00, 28.00, 47.00, 12.00)],\n",
    " [44306600683, 'Neutro', (64.00, 29.00, 43.00, 13.00)],\n",
    " [43460747924, 'Neutro', (66.00, 30.00, 44.00, 14.00)],\n",
    " [75590376075, 'Neutro', (68.00, 28.00, 48.00, 14.00)],\n",
    " [68267282206, 'Neutro', (67.00, 30.00, 50.00, 17.00)],\n",
    " [77567920298, 'Neutro', (60.00, 29.00, 45.00, 15.00)],\n",
    " [67600419504, 'Neutro', (57.00, 26.00, 35.00, 10.00)],\n",
    " [44902189811, 'Neutro', (55.00, 24.00, 38.00, 11.00)],\n",
    " [62966866614, 'Neutro', (55.00, 24.00, 37.00, 10.00)],\n",
    " [56182108880, 'Neutro', (58.00, 27.00, 39.00, 12.00)],\n",
    " [78299785392, 'Neutro', (60.00, 27.00, 51.00, 16.00)],\n",
    " [45206071878, 'Neutro', (54.00, 30.00, 45.00, 15.00)],\n",
    " [57381925887, 'Neutro', (60.00, 34.00, 45.00, 16.00)],\n",
    " [65654934891, 'Neutro', (67.00, 31.00, 47.00, 15.00)],\n",
    " [56130640481, 'Neutro', (63.00, 23.00, 44.00, 13.00)],\n",
    " [59667611672, 'Neutro', (56.00, 30.00, 41.00, 13.00)],\n",
    " [40349334385, 'Neutro', (55.00, 25.00, 40.00, 13.00)],\n",
    " [68422640081, 'Neutro', (55.00, 26.00, 44.00, 12.00)],\n",
    " [55245923439, 'Neutro', (61.00, 30.00, 46.00, 14.00)],\n",
    " [51286696873, 'Neutro', (58.00, 26.00, 40.00, 12.00)],\n",
    " [41065279767, 'Neutro', (50.00, 23.00, 33.00, 10.00)],\n",
    " [42866454119, 'Neutro', (56.00, 27.00, 42.00, 13.00)],\n",
    " [61962944542, 'Neutro', (57.00, 30.00, 42.00, 12.00)],\n",
    " [48623501235, 'Neutro', (57.00, 29.00, 42.00, 13.00)],\n",
    " [49475220139, 'Neutro', (62.00, 29.00, 43.00, 13.00)],\n",
    " [52245218531, 'Neutro', (51.00, 25.00, 30.00, 11.00)],\n",
    " [50932926697, 'Neutro', (57.00, 28.00, 41.00, 13.00)],\n",
    " [47432932248, 'Detrator', (63.00, 33.00, 60.00, 25.00)],\n",
    " [39321991579, 'Detrator', (58.00, 27.00, 51.00, 19.00)],\n",
    " [46283759608, 'Detrator', (71.00, 30.00, 59.00, 21.00)],\n",
    " [56996272538, 'Detrator', (63.00, 29.00, 56.00, 18.00)],\n",
    " [77232189978, 'Detrator', (65.00, 30.00, 58.00, 22.00)],\n",
    " [77183282421, 'Detrator', (76.00, 30.00, 66.00, 21.00)],\n",
    " [42857147573, 'Detrator', (49.00, 25.00, 45.00, 17.00)],\n",
    " [39331584043, 'Detrator', (73.00, 29.00, 63.00, 18.00)],\n",
    " [48130345228, 'Detrator', (67.00, 25.00, 58.00, 18.00)],\n",
    " [71422443953, 'Detrator', (72.00, 36.00, 61.00, 25.00)],\n",
    " [72508507904, 'Detrator', (69.00, 32.00, 57.00, 23.00)],\n",
    " [41188727558, 'Detrator', (56.00, 28.00, 49.00, 20.00)],\n",
    " [61358776640, 'Detrator', (77.00, 28.00, 67.00, 20.00)],\n",
    " [66934042323, 'Detrator', (63.00, 27.00, 49.00, 18.00)],\n",
    " [40622495567, 'Detrator', (67.00, 33.00, 57.00, 21.00)],\n",
    " [57221661311, 'Detrator', (72.00, 32.00, 60.00, 18.00)],\n",
    " [45159362930, 'Detrator', (62.00, 28.00, 48.00, 18.00)],\n",
    " [45018975174, 'Detrator', (61.00, 30.00, 49.00, 18.00)],\n",
    " [70685429140, 'Detrator', (64.00, 28.00, 56.00, 21.00)],\n",
    " [61808723477, 'Detrator', (72.00, 30.00, 58.00, 16.00)],\n",
    " [56363906548, 'Detrator', (74.00, 28.00, 61.00, 19.00)],\n",
    " [39646194720, 'Detrator', (79.00, 38.00, 64.00, 20.00)],\n",
    " [55385494438, 'Detrator', (64.00, 28.00, 56.00, 22.00)],\n",
    " [75796138061, 'Detrator', (63.00, 28.00, 51.00, 15.00)],\n",
    " [53595767857, 'Detrator', (61.00, 26.00, 56.00, 14.00)],\n",
    " [48758828080, 'Detrator', (77.00, 30.00, 61.00, 23.00)],\n",
    " [58387651356, 'Detrator', (63.00, 34.00, 56.00, 24.00)],\n",
    " [72846931192, 'Detrator', (64.00, 31.00, 55.00, 18.00)],\n",
    " [47046896346, 'Detrator', (60.00, 30.00, 48.00, 18.00)],\n",
    " [69730292799, 'Detrator', (69.00, 31.00, 54.00, 21.00)],\n",
    " [48177836349, 'Detrator', (67.00, 31.00, 56.00, 24.00)],\n",
    " [57976326635, 'Detrator', (69.00, 31.00, 51.00, 23.00)],\n",
    " [55710813002, 'Detrator', (58.00, 27.00, 51.00, 19.00)],\n",
    " [64028580439, 'Detrator', (68.00, 32.00, 59.00, 23.00)],\n",
    " [49962942971, 'Detrator', (67.00, 33.00, 57.00, 25.00)],\n",
    " [47250893163, 'Detrator', (67.00, 30.00, 52.00, 23.00)],\n",
    " [75559276274, 'Detrator', (63.00, 25.00, 50.00, 19.00)],\n",
    " [58529878272, 'Detrator', (65.00, 30.00, 52.00, 20.00)],\n",
    " [76005896622, 'Detrator', (62.00, 34.00, 54.00, 23.00)],\n",
    " [49212614633, 'Detrator', (59.00, 30.00, 51.00, 18.00)]]\n"
   ]
  },
  {
   "cell_type": "markdown",
   "id": "dc85aa18-1d9a-4c84-829d-848ee3d03c2a",
   "metadata": {},
   "source": [
    "## Dados não categorizados"
   ]
  },
  {
   "cell_type": "code",
   "execution_count": 2,
   "id": "28ad50d0-c95c-49c7-806c-741d5e6256ca",
   "metadata": {},
   "outputs": [],
   "source": [
    "# Atribuindo à variável no_class uma lista com os dados que a serem classificados\n",
    "no_class = [[45926320819, '', (58.00, 40.00, 12.00, 20.0)],\n",
    " [52559670741, '', (57.00, 44.00, 15.00, 40.0)],\n",
    " [59016004832, '', (54.00, 39.00, 13.00, 40.0)],\n",
    " [66175672425, '', (51.00, 35.00, 14.00, 30.0)],\n",
    " [53330429526, '', (57.00, 38.00, 17.00, 30.0)],\n",
    " [43765563403, '', (51.00, 38.00, 15.00, 30.0)],\n",
    " [68020822591, '', (54.00, 34.00, 17.00, 20.0)],\n",
    " [53939481689, '', (51.00, 37.00, 15.00, 40.0)],\n",
    " [47014057561, '', (46.00, 36.00, 10.00, 20.0)],\n",
    " [57183542047, '', (51.00, 33.00, 17.00, 50.0)],\n",
    "\n",
    " [68518284363, '', (50.00, 20.00, 35.00, 10.00)],\n",
    " [65806049885, '', (59.00, 30.00, 42.00, 15.00)],\n",
    " [54128073086, '', (60.00, 22.00, 40.00, 10.00)],\n",
    " [41306785494, '', (61.00, 29.00, 47.00, 14.00)],\n",
    " [65234831039, '', (56.00, 29.00, 36.00, 13.00)],\n",
    " [50964498067, '', (67.00, 31.00, 44.00, 14.00)],\n",
    " [50810951429, '', (56.00, 30.00, 45.00, 15.00)],\n",
    " [48765044397, '', (58.00, 27.00, 41.00, 10.00)],\n",
    " [41960083761, '', (62.00, 22.00, 45.00, 15.00)],\n",
    " [76657763082, '', (56.00, 25.00, 39.00, 11.00)],\n",
    "\n",
    " [64726487742, '', (65.00, 32.00, 51.00, 20.00)],\n",
    " [75746566283, '', (64.00, 27.00, 53.00, 19.00)],\n",
    " [78576734793, '', (68.00, 30.00, 55.00, 21.00)],\n",
    " [56440141847, '', (57.00, 25.00, 50.00, 20.00)],\n",
    " [66827423000, '', (58.00, 28.00, 51.00, 24.00)],\n",
    " [45267873396, '', (64.00, 32.00, 53.00, 23.00)],\n",
    " [46387191493, '', (65.00, 30.00, 55.00, 18.00)],\n",
    " [54273611732, '', (77.00, 38.00, 67.00, 22.00)],\n",
    " [75135392881, '', (77.00, 26.00, 69.00, 23.00)],\n",
    " [64703873108, '', (60.00, 22.00, 50.00, 15.00)]]"
   ]
  },
  {
   "cell_type": "markdown",
   "id": "f3a25aa7-40ee-4726-ac28-669271a07289",
   "metadata": {},
   "source": [
    "# Backup dos dados"
   ]
  },
  {
   "cell_type": "code",
   "execution_count": 3,
   "id": "7e332f2c-b209-413c-91ed-fd019e5cc8e3",
   "metadata": {},
   "outputs": [],
   "source": [
    "# Backup dos dados\n",
    "backup_data = data\n",
    "backup_no_class = no_class\n",
    "\n",
    "# Renomeando os dados\n",
    "conjunto_dados = data\n",
    "conjunto_dados_teste = no_class"
   ]
  },
  {
   "cell_type": "markdown",
   "id": "e6990412-ce90-4cf0-bcea-1a03e47a78a9",
   "metadata": {},
   "source": [
    "# Funções"
   ]
  },
  {
   "cell_type": "code",
   "execution_count": 4,
   "id": "96bf8551-8800-4853-993b-576fcdf7724e",
   "metadata": {},
   "outputs": [],
   "source": [
    "# Criando uma função que calcule a distância entre o ponto de referencia e o ponto de destino\n",
    "def calcular_distancia_euclidiana(ponto_referencia, ponto_destino):\n",
    "    numero_dimensoes = len(ponto_referencia)\n",
    "    return sum([(ponto_destino[i] - ponto_referencia[i]) ** 2 for i in range(numero_dimensoes)] ) ** 0.5"
   ]
  },
  {
   "cell_type": "code",
   "execution_count": 5,
   "id": "e035e3bf-c96b-4012-8176-542e299f4308",
   "metadata": {},
   "outputs": [],
   "source": [
    "# Adicionando à lista de elementos os elementos existentes de uma lista dentro de outra lista\n",
    "# Contando a quantidade de elementos existentes dentro da lista de elementos\n",
    "def contar_elementos_em_lista_de_listas(lista_de_listas, elementos):\n",
    "    lista_de_elementos = []\n",
    "    for lista in lista_de_listas:\n",
    "        for elemento in lista:\n",
    "            lista_de_elementos.append(elemento)\n",
    "    contadores = []\n",
    "    for elemento in elementos:\n",
    "        contadores.append(lista_de_elementos.count(elemento))\n",
    "    return contadores"
   ]
  },
  {
   "cell_type": "code",
   "execution_count": 6,
   "id": "eff13911-a958-4cb7-9e5d-b0de096e3b99",
   "metadata": {},
   "outputs": [],
   "source": [
    "# Procurando pelo indice do elemento de valor maximo da lista\n",
    "def encontrar_indice_do_maximo(lista):\n",
    "    valor_maximo = max(lista)\n",
    "    for i in range(len(lista)):\n",
    "        if valor_maximo == lista[i]:\n",
    "            return i"
   ]
  },
  {
   "cell_type": "markdown",
   "id": "0b5cf4bc-0ff7-4b15-a26e-c0fa115bb935",
   "metadata": {},
   "source": [
    "# Implementação do KNN\n",
    "*Passo 1:* Calcular a distância entre uma amostra de teste e o conjunto de dados de treino\n",
    "\n",
    "*Passo 2:* Encontrar as K (escolhido K = 5) menores distâncias e seus respectivos rótulos\n",
    "\n",
    "*Passo 3:* Atribuição do rótulo com base na moda dos K vizinhos encontrados"
   ]
  },
  {
   "cell_type": "code",
   "execution_count": 7,
   "id": "6a9642a4-dc10-46dc-937c-fa2d825242f8",
   "metadata": {},
   "outputs": [],
   "source": [
    "def knn():\n",
    "    k = 5\n",
    "    dado_rotulado = []\n",
    "    # percorrendo o conjunto de dados a serem classificados\n",
    "    for dado_teste in conjunto_dados_teste:\n",
    "        distancias = []\n",
    "        # percorrendo o conjunto de dados já classificados\n",
    "        for dado in conjunto_dados:\n",
    "            # Passo 1\n",
    "            distancias.append([calcular_distancia_euclidiana(dado[2], dado_teste[2]), dado[1]])\n",
    "    \n",
    "        # Passo 2: ordenando as distancias de modo que estejam os 5 vizinhos mais proximos do dado a ser classificado\n",
    "        vizinhos_proximos = sorted(distancias)[:k]\n",
    "        moda = encontrar_indice_do_maximo(contar_elementos_em_lista_de_listas(vizinhos_proximos, ['Promotor', 'Neutro', 'Detrator']))\n",
    "    \n",
    "        # Passo 3: Classificando se o dado é representado por um promotor, neutro ou detrator com base em uma condicional utlizando a moda \n",
    "        if moda == 0:\n",
    "            dado_rotulado.append([dado_teste[0], 'Promotor', dado_teste[2]])\n",
    "        elif moda == 1:\n",
    "            dado_rotulado.append([dado_teste[0], 'Neutro', dado_teste[2]])\n",
    "        else:\n",
    "            dado_rotulado.append([dado_teste[0], 'Detrator', dado_teste[2]])\n",
    "            \n",
    "    return dado_rotulado"
   ]
  },
  {
   "cell_type": "markdown",
   "id": "4bf9d123-75c2-4146-b4ad-39477bbe4d5c",
   "metadata": {},
   "source": [
    "# Dados Rotulados"
   ]
  },
  {
   "cell_type": "code",
   "execution_count": 8,
   "id": "2006794b-8405-4dd9-a512-8d2e6d2b0fb3",
   "metadata": {},
   "outputs": [],
   "source": [
    "# Aplicando a função knn\n",
    "dados_rotulados = knn()"
   ]
  },
  {
   "cell_type": "code",
   "execution_count": 9,
   "id": "200413df-56a3-4d51-86ec-7eedfe08ff99",
   "metadata": {},
   "outputs": [
    {
     "data": {
      "text/plain": [
       "[[45926320819, 'Promotor', (58.0, 40.0, 12.0, 20.0)],\n",
       " [52559670741, 'Promotor', (57.0, 44.0, 15.0, 40.0)],\n",
       " [59016004832, 'Promotor', (54.0, 39.0, 13.0, 40.0)],\n",
       " [66175672425, 'Promotor', (51.0, 35.0, 14.0, 30.0)],\n",
       " [53330429526, 'Promotor', (57.0, 38.0, 17.0, 30.0)],\n",
       " [43765563403, 'Promotor', (51.0, 38.0, 15.0, 30.0)],\n",
       " [68020822591, 'Promotor', (54.0, 34.0, 17.0, 20.0)],\n",
       " [53939481689, 'Promotor', (51.0, 37.0, 15.0, 40.0)],\n",
       " [47014057561, 'Promotor', (46.0, 36.0, 10.0, 20.0)],\n",
       " [57183542047, 'Promotor', (51.0, 33.0, 17.0, 50.0)],\n",
       " [68518284363, 'Neutro', (50.0, 20.0, 35.0, 10.0)],\n",
       " [65806049885, 'Neutro', (59.0, 30.0, 42.0, 15.0)],\n",
       " [54128073086, 'Neutro', (60.0, 22.0, 40.0, 10.0)],\n",
       " [41306785494, 'Neutro', (61.0, 29.0, 47.0, 14.0)],\n",
       " [65234831039, 'Neutro', (56.0, 29.0, 36.0, 13.0)],\n",
       " [50964498067, 'Neutro', (67.0, 31.0, 44.0, 14.0)],\n",
       " [50810951429, 'Neutro', (56.0, 30.0, 45.0, 15.0)],\n",
       " [48765044397, 'Neutro', (58.0, 27.0, 41.0, 10.0)],\n",
       " [41960083761, 'Neutro', (62.0, 22.0, 45.0, 15.0)],\n",
       " [76657763082, 'Neutro', (56.0, 25.0, 39.0, 11.0)],\n",
       " [64726487742, 'Detrator', (65.0, 32.0, 51.0, 20.0)],\n",
       " [75746566283, 'Detrator', (64.0, 27.0, 53.0, 19.0)],\n",
       " [78576734793, 'Detrator', (68.0, 30.0, 55.0, 21.0)],\n",
       " [56440141847, 'Detrator', (57.0, 25.0, 50.0, 20.0)],\n",
       " [66827423000, 'Detrator', (58.0, 28.0, 51.0, 24.0)],\n",
       " [45267873396, 'Detrator', (64.0, 32.0, 53.0, 23.0)],\n",
       " [46387191493, 'Detrator', (65.0, 30.0, 55.0, 18.0)],\n",
       " [54273611732, 'Detrator', (77.0, 38.0, 67.0, 22.0)],\n",
       " [75135392881, 'Detrator', (77.0, 26.0, 69.0, 23.0)],\n",
       " [64703873108, 'Detrator', (60.0, 22.0, 50.0, 15.0)]]"
      ]
     },
     "execution_count": 9,
     "metadata": {},
     "output_type": "execute_result"
    }
   ],
   "source": [
    "dados_rotulados"
   ]
  },
  {
   "cell_type": "code",
   "execution_count": null,
   "id": "0fc8388d-59ad-4b82-b1af-20e7d002b1d9",
   "metadata": {},
   "outputs": [],
   "source": []
  }
 ],
 "metadata": {
  "kernelspec": {
   "display_name": "Python 3 (ipykernel)",
   "language": "python",
   "name": "python3"
  },
  "language_info": {
   "codemirror_mode": {
    "name": "ipython",
    "version": 3
   },
   "file_extension": ".py",
   "mimetype": "text/x-python",
   "name": "python",
   "nbconvert_exporter": "python",
   "pygments_lexer": "ipython3",
   "version": "3.9.13"
  }
 },
 "nbformat": 4,
 "nbformat_minor": 5
}
